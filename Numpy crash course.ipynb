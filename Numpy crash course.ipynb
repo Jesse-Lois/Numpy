{
 "cells": [
  {
   "cell_type": "markdown",
   "metadata": {},
   "source": [
    "# ARRAYS Vs LISTS"
   ]
  },
  {
   "cell_type": "code",
   "execution_count": null,
   "metadata": {},
   "outputs": [],
   "source": [
    "\"\"\"\n",
    "range returns a LIST\n",
    "arange returns an ARRAY\n",
    "\"\"\""
   ]
  },
  {
   "cell_type": "code",
   "execution_count": 1,
   "metadata": {},
   "outputs": [
    {
     "name": "stdout",
     "output_type": "stream",
     "text": [
      "[2, 12, 36]\n"
     ]
    }
   ],
   "source": [
    "list_two = list(range(1,4))\n",
    "list_three = list(range(1,4))\n",
    "list_sum = []\n",
    "\n",
    "for i in range(3):\n",
    "    list_two[i]=list_two[i]**2\n",
    "    list_three[i]=list_three[i]**3\n",
    "    list_sum.append(list_two[i]+list_three[i])\n",
    "print(list_sum)"
   ]
  },
  {
   "cell_type": "code",
   "execution_count": null,
   "metadata": {},
   "outputs": [],
   "source": [
    "\"\"\"\n",
    "With 'arange' -> arange(start,stop) this means that the generation of array starts at the starting point and ends at the ending point.\n",
    "For eg,\n",
    "    arange(1,10) gives output as follows\n",
    "    [1,2,3,4,5,6,7,8,9]\n",
    "It does not include the 'stop' variable.\n",
    "\"\"\""
   ]
  },
  {
   "cell_type": "code",
   "execution_count": 4,
   "metadata": {},
   "outputs": [
    {
     "name": "stdout",
     "output_type": "stream",
     "text": [
      "[1 4 9]\n",
      "[ 2 12 36]\n"
     ]
    }
   ],
   "source": [
    "import numpy as np\n",
    " \n",
    "array_two =np.arange(1,4) ** 2 #arange is for creating range of elements in array\n",
    "print(array_two)\n",
    "\n",
    "array_three = np.arange(1,4)**3\n",
    "print(array_two+array_three)"
   ]
  },
  {
   "cell_type": "code",
   "execution_count": 6,
   "metadata": {},
   "outputs": [
    {
     "data": {
      "text/plain": [
       "array([ 1, 16, 81], dtype=int32)"
      ]
     },
     "execution_count": 6,
     "metadata": {},
     "output_type": "execute_result"
    }
   ],
   "source": [
    "# 'Power' function\n",
    "np.power(np.array([1,2,3]),4) #This is a universal function"
   ]
  },
  {
   "cell_type": "code",
   "execution_count": 7,
   "metadata": {},
   "outputs": [
    {
     "data": {
      "text/plain": [
       "array([-2, -3, -4, -6])"
      ]
     },
     "execution_count": 7,
     "metadata": {},
     "output_type": "execute_result"
    }
   ],
   "source": [
    "# 'Negative' function generates the negative of all the numbers\n",
    "np.negative(np.array([2,3,4,6]))"
   ]
  },
  {
   "cell_type": "code",
   "execution_count": 8,
   "metadata": {},
   "outputs": [
    {
     "data": {
      "text/plain": [
       "array([  2.71828183,   7.3890561 ,  20.08553692,  54.59815003,\n",
       "       148.4131591 ])"
      ]
     },
     "execution_count": 8,
     "metadata": {},
     "output_type": "execute_result"
    }
   ],
   "source": [
    "#Exponential function\n",
    "np.exp(np.array([1,2,3,4,5]))"
   ]
  },
  {
   "cell_type": "code",
   "execution_count": 9,
   "metadata": {},
   "outputs": [],
   "source": [
    "#Instead of invoking the array again and again it is better to declare it separately\n",
    "sample_array = np.array([1,2,3,4,5,6,7,8,9,10])"
   ]
  },
  {
   "cell_type": "code",
   "execution_count": 10,
   "metadata": {},
   "outputs": [
    {
     "data": {
      "text/plain": [
       "array([0.        , 0.69314718, 1.09861229, 1.38629436, 1.60943791,\n",
       "       1.79175947, 1.94591015, 2.07944154, 2.19722458, 2.30258509])"
      ]
     },
     "execution_count": 10,
     "metadata": {},
     "output_type": "execute_result"
    }
   ],
   "source": [
    "#Log function\n",
    "np.log(sample_array)"
   ]
  },
  {
   "cell_type": "code",
   "execution_count": 11,
   "metadata": {},
   "outputs": [
    {
     "data": {
      "text/plain": [
       "array([ 0.84147098,  0.90929743,  0.14112001, -0.7568025 , -0.95892427,\n",
       "       -0.2794155 ,  0.6569866 ,  0.98935825,  0.41211849, -0.54402111])"
      ]
     },
     "execution_count": 11,
     "metadata": {},
     "output_type": "execute_result"
    }
   ],
   "source": [
    "# Sin function\n",
    "np.sin(sample_array)"
   ]
  },
  {
   "cell_type": "markdown",
   "metadata": {},
   "source": [
    "# MULTI-DIMENSIONAL ARRAY OBJECT"
   ]
  },
  {
   "cell_type": "code",
   "execution_count": null,
   "metadata": {},
   "outputs": [],
   "source": [
    "# N dimensional array - all the elements are of the same datatype. This allows the array to compute the memory required for the array without any confusions\n",
    "\"\"\"\n",
    "For a 1D array, shape would be (n,)\n",
    "    n-> no of elements in array\n",
    "    Eg. [1 2 3 4 5] shape->(3,)\n",
    "For a 2D array, shape would be (n,m)\n",
    "    n->no of rows\n",
    "    m->no of columns\n",
    "\"\"\""
   ]
  },
  {
   "cell_type": "code",
   "execution_count": 14,
   "metadata": {},
   "outputs": [
    {
     "name": "stdout",
     "output_type": "stream",
     "text": [
      "[[0 1 2]\n",
      " [0 1 2]\n",
      " [0 1 2]]\n",
      "(3, 3)\n"
     ]
    }
   ],
   "source": [
    "#Creating multi-dimensional arrays\n",
    "x = np.arange(3)\n",
    "y = np.arange(3)\n",
    "z = np.arange(3)\n",
    "\n",
    "multi_array = np.array([x,y,z])\n",
    "print(multi_array)\n",
    "print(multi_array.shape)"
   ]
  },
  {
   "cell_type": "code",
   "execution_count": 16,
   "metadata": {},
   "outputs": [
    {
     "name": "stdout",
     "output_type": "stream",
     "text": [
      "[ 1.          1.18367347  1.36734694  1.55102041  1.73469388  1.91836735\n",
      "  2.10204082  2.28571429  2.46938776  2.65306122  2.83673469  3.02040816\n",
      "  3.20408163  3.3877551   3.57142857  3.75510204  3.93877551  4.12244898\n",
      "  4.30612245  4.48979592  4.67346939  4.85714286  5.04081633  5.2244898\n",
      "  5.40816327  5.59183673  5.7755102   5.95918367  6.14285714  6.32653061\n",
      "  6.51020408  6.69387755  6.87755102  7.06122449  7.24489796  7.42857143\n",
      "  7.6122449   7.79591837  7.97959184  8.16326531  8.34693878  8.53061224\n",
      "  8.71428571  8.89795918  9.08163265  9.26530612  9.44897959  9.63265306\n",
      "  9.81632653 10.        ]\n"
     ]
    }
   ],
   "source": [
    "#Linspace function\n",
    "\"\"\"\n",
    "linspace generates values based on the specification. \n",
    "linspace(start,stop,stepsize->how much numbers to print?)\n",
    "all the numbers are evenly placed.\n",
    "It includes the stop variable.\n",
    "\"\"\"\n",
    "w = np.linspace(1,10,50)\n",
    "print(w)"
   ]
  },
  {
   "cell_type": "code",
   "execution_count": 18,
   "metadata": {},
   "outputs": [
    {
     "name": "stdout",
     "output_type": "stream",
     "text": [
      "[[0 1 2]\n",
      " [3 4 5]\n",
      " [7 8 9]]\n"
     ]
    },
    {
     "data": {
      "text/plain": [
       "5"
      ]
     },
     "execution_count": 18,
     "metadata": {},
     "output_type": "execute_result"
    }
   ],
   "source": [
    "#Indexing in multi-dimensional array\n",
    "x = np.arange(3)\n",
    "y = np.arange(3,6)\n",
    "z = np.arange(7,10)\n",
    "\n",
    "multi_array = np.array([x,y,z])\n",
    "print(multi_array)\n",
    "multi_array[1,2]"
   ]
  },
  {
   "cell_type": "code",
   "execution_count": null,
   "metadata": {},
   "outputs": [],
   "source": [
    "\"\"\"\n",
    "The numpy 'array' object has a special feature where we can specify the datatype in the form of dtype.\n",
    "\"\"\" "
   ]
  },
  {
   "cell_type": "markdown",
   "metadata": {},
   "source": [
    "# 1D slicing"
   ]
  },
  {
   "cell_type": "code",
   "execution_count": null,
   "metadata": {},
   "outputs": [],
   "source": [
    "\"\"\"\n",
    "Slicing in numpy is done using the following syntax (start,stop,stepsize)\n",
    "start->specifies where we want to start slicing the array\n",
    "stop->specifies where we want to stop slicing the array\n",
    "stepsize-> specifies spacing inbetween the specified value\n",
    "\"\"\""
   ]
  },
  {
   "cell_type": "code",
   "execution_count": 22,
   "metadata": {},
   "outputs": [
    {
     "name": "stdout",
     "output_type": "stream",
     "text": [
      "[1 2 3 4 5 6 7 8 9]\n"
     ]
    },
    {
     "data": {
      "text/plain": [
       "array([3, 5, 7])"
      ]
     },
     "execution_count": 22,
     "metadata": {},
     "output_type": "execute_result"
    }
   ],
   "source": [
    "x=np.arange(1,10)\n",
    "print(x)\n",
    "x[2:7:2]"
   ]
  },
  {
   "cell_type": "markdown",
   "metadata": {},
   "source": [
    "# Reshaping"
   ]
  },
  {
   "cell_type": "code",
   "execution_count": 25,
   "metadata": {},
   "outputs": [
    {
     "name": "stdout",
     "output_type": "stream",
     "text": [
      "[0 1 2 3 4 5 6 7 8]\n",
      "[[0 1 2]\n",
      " [3 4 5]\n",
      " [6 7 8]]\n"
     ]
    }
   ],
   "source": [
    "x = np.arange(9)\n",
    "print(x)\n",
    "# We can reshape it into 2 dimensional array\n",
    "\n",
    "x=np.arange(9).reshape(3,3)\n",
    "print (x)"
   ]
  },
  {
   "cell_type": "code",
   "execution_count": 28,
   "metadata": {},
   "outputs": [
    {
     "name": "stdout",
     "output_type": "stream",
     "text": [
      "[[[ 0  1  2]\n",
      "  [ 3  4  5]\n",
      "  [ 6  7  8]]\n",
      "\n",
      " [[ 9 10 11]\n",
      "  [12 13 14]\n",
      "  [15 16 17]]]\n"
     ]
    },
    {
     "data": {
      "text/plain": [
       "6.0"
      ]
     },
     "execution_count": 28,
     "metadata": {},
     "output_type": "execute_result"
    }
   ],
   "source": [
    "y = np.arange(18).reshape(2,3,3)\n",
    "print(y)"
   ]
  },
  {
   "cell_type": "markdown",
   "metadata": {},
   "source": [
    "# Multi-Dimensional slicing"
   ]
  },
  {
   "cell_type": "code",
   "execution_count": 35,
   "metadata": {
    "scrolled": true
   },
   "outputs": [
    {
     "name": "stdout",
     "output_type": "stream",
     "text": [
      "[[[ 0  1  2]\n",
      "  [ 3  4  5]]\n",
      "\n",
      " [[ 6  7  8]\n",
      "  [ 9 10 11]]\n",
      "\n",
      " [[12 13 14]\n",
      "  [15 16 17]]]\n"
     ]
    },
    {
     "data": {
      "text/plain": [
       "13"
      ]
     },
     "execution_count": 35,
     "metadata": {},
     "output_type": "execute_result"
    }
   ],
   "source": [
    "\"\"\"\n",
    "y = np.arange(18).reshape(3,2,3)\n",
    "The output:\n",
    "     0 1 2\n",
    "0[[[ 0 1 2         0\n",
    "     3 4 5]]       1\n",
    "1  [[6 7 8         0\n",
    "     9 10 11]]     1\n",
    "2  [[12 13 14      0\n",
    "     15 16 17]]]   1\n",
    "We want to access the element '6'\n",
    "y[1,0,0]\n",
    "If we want to access '13'\n",
    "y[2,0,1]\n",
    "\"\"\"\n",
    "y = np.arange(18).reshape(3,2,3)\n",
    "print(y)\n",
    "\n",
    "y[0,1,0]\n",
    "y[2,0,1]"
   ]
  },
  {
   "cell_type": "code",
   "execution_count": 36,
   "metadata": {},
   "outputs": [
    {
     "data": {
      "text/plain": [
       "array([[ 6,  7,  8],\n",
       "       [ 9, 10, 11]])"
      ]
     },
     "execution_count": 36,
     "metadata": {},
     "output_type": "execute_result"
    }
   ],
   "source": [
    "y = np.arange(18).reshape(3,2,3)\n",
    "y[1,0:2,0:3]"
   ]
  },
  {
   "cell_type": "markdown",
   "metadata": {},
   "source": [
    "# Manipulating array shapes"
   ]
  },
  {
   "cell_type": "code",
   "execution_count": 8,
   "metadata": {},
   "outputs": [
    {
     "name": "stdout",
     "output_type": "stream",
     "text": [
      "[0 1 2 3 4 5 6 7 8]\n",
      "[    0     1 19999     3     4     5     6     7     8]\n",
      "[[    0     1 19999]\n",
      " [    3     4     5]\n",
      " [    6     7     8]]\n"
     ]
    }
   ],
   "source": [
    "\"\"\"\n",
    "ravel()- It reads a multi-dimensional array and returns a one dimensional array.\n",
    "ravel returns a view of the original array.\n",
    "\"\"\"\n",
    "import numpy as np\n",
    "x=np.arange(9).reshape(3,3)\n",
    "ravelled_array=x.ravel()\n",
    "print(ravelled_array)\n",
    "\n",
    "ravelled_array[2]=19999 #If we modify the ravelled array the change is reflected in both arrays.\n",
    "print(ravelled_array)\n",
    "print(x)"
   ]
  },
  {
   "cell_type": "code",
   "execution_count": 10,
   "metadata": {},
   "outputs": [
    {
     "name": "stdout",
     "output_type": "stream",
     "text": [
      "[    0     1 19999     3     4     5     6     7     8]\n",
      "[   0    1 2000    3    4    5    6    7    8]\n",
      "[[    0     1 19999]\n",
      " [    3     4     5]\n",
      " [    6     7     8]]\n"
     ]
    }
   ],
   "source": [
    "# flat() function. Returns a copy of the original array. It allocates new memory!\n",
    "flattened_array = x.flatten()\n",
    "print(flattened_array)\n",
    "\n",
    "flattened_array[2]=2000\n",
    "print(flattened_array)\n",
    "print(x) #Since flattened array returns a copy, the change is not reflected in the original array. Rather it is reflected only in the copy."
   ]
  },
  {
   "cell_type": "code",
   "execution_count": 12,
   "metadata": {},
   "outputs": [
    {
     "name": "stdout",
     "output_type": "stream",
     "text": [
      "[[0 1 2]\n",
      " [3 4 5]\n",
      " [6 7 8]]\n"
     ]
    }
   ],
   "source": [
    "#We can use the 'shape' function directly to set the shape of the array\n",
    "y=np.arange(9)\n",
    "y.shape=[3,3]\n",
    "print(y)"
   ]
  },
  {
   "cell_type": "code",
   "execution_count": 17,
   "metadata": {},
   "outputs": [
    {
     "name": "stdout",
     "output_type": "stream",
     "text": [
      "[[0 3 6]\n",
      " [1 4 7]\n",
      " [2 5 8]]\n",
      "[[0 3 6]\n",
      " [1 4 7]\n",
      " [2 5 8]]\n"
     ]
    }
   ],
   "source": [
    "#Flipping a matrix over its diagonal using the 'transpose' function.\n",
    "y=np.arange(9)\n",
    "y.shape=[3,3]\n",
    "print(y.transpose())\n",
    "\n",
    "# or we can use 'T'\n",
    "print(y.T)"
   ]
  },
  {
   "cell_type": "code",
   "execution_count": 18,
   "metadata": {},
   "outputs": [
    {
     "name": "stdout",
     "output_type": "stream",
     "text": [
      "[[0 1 2 3 4 5]\n",
      " [6 7 8 0 1 2]\n",
      " [3 4 5 6 7 8]\n",
      " [0 1 2 3 4 5]\n",
      " [6 7 8 0 1 2]\n",
      " [3 4 5 6 7 8]]\n"
     ]
    }
   ],
   "source": [
    "# 'resize' function\n",
    "print(np.resize(y,(6,6)))"
   ]
  },
  {
   "cell_type": "code",
   "execution_count": 22,
   "metadata": {},
   "outputs": [
    {
     "name": "stdout",
     "output_type": "stream",
     "text": [
      "[[0 0 0 0 0 0]\n",
      " [0 0 0 0 0 0]\n",
      " [0 0 0 0 0 0]\n",
      " [0 0 0 0 0 0]\n",
      " [0 0 0 0 0 0]\n",
      " [0 0 0 0 0 0]]\n"
     ]
    }
   ],
   "source": [
    "#np.zeros - > returns an array filled with zeros\n",
    "print(np.zeros((6,6),dtype=int))"
   ]
  },
  {
   "cell_type": "code",
   "execution_count": 24,
   "metadata": {},
   "outputs": [
    {
     "name": "stdout",
     "output_type": "stream",
     "text": [
      "[[1. 0. 0.]\n",
      " [0. 1. 0.]\n",
      " [0. 0. 1.]]\n"
     ]
    }
   ],
   "source": [
    "# np.eye -> creates a square matrix with equal amount of rows and columns where all the diagonal elements are 1 and the other elements are zero.\n",
    "#It is most often used in linear algebric functions\n",
    "print(np.eye(3))"
   ]
  },
  {
   "cell_type": "code",
   "execution_count": 25,
   "metadata": {},
   "outputs": [
    {
     "data": {
      "text/plain": [
       "array([[0.60394668, 0.39038908, 0.77500646, 0.22841341],\n",
       "       [0.96024364, 0.41091526, 0.52049211, 0.00625862],\n",
       "       [0.37608151, 0.99300949, 0.68123879, 0.46957254],\n",
       "       [0.58384147, 0.16231049, 0.31715724, 0.78246414]])"
      ]
     },
     "execution_count": 25,
     "metadata": {},
     "output_type": "execute_result"
    }
   ],
   "source": [
    "#Creating random numbers\n",
    "np.random.rand(4,4)"
   ]
  },
  {
   "cell_type": "markdown",
   "metadata": {},
   "source": [
    "# Matrix multiplication"
   ]
  },
  {
   "cell_type": "code",
   "execution_count": 29,
   "metadata": {},
   "outputs": [
    {
     "name": "stdout",
     "output_type": "stream",
     "text": [
      "[[13 33]\n",
      " [26 63]]\n"
     ]
    }
   ],
   "source": [
    "import numpy as np\n",
    "matrix_a = np.matrix([1,2,3,4,4,5]).reshape(2,3)\n",
    "matrix_b = np.matrix([3,2,-4,5,6,7]).reshape(3,2)\n",
    "product = np.matmul(matrix_a,matrix_b)\n",
    "print(product)"
   ]
  },
  {
   "cell_type": "markdown",
   "metadata": {},
   "source": [
    "# STACKING"
   ]
  },
  {
   "cell_type": "code",
   "execution_count": 1,
   "metadata": {},
   "outputs": [
    {
     "name": "stdout",
     "output_type": "stream",
     "text": [
      "[[0 1]\n",
      " [2 3]]\n"
     ]
    }
   ],
   "source": [
    "# Stacking two arrays horizontally\n",
    "import numpy as np\n",
    "x=np.arange(4).reshape(2,2)\n",
    "print(x)"
   ]
  },
  {
   "cell_type": "code",
   "execution_count": 3,
   "metadata": {},
   "outputs": [
    {
     "data": {
      "text/plain": [
       "array([[4, 5],\n",
       "       [6, 7]])"
      ]
     },
     "execution_count": 3,
     "metadata": {},
     "output_type": "execute_result"
    }
   ],
   "source": [
    "y = np.arange(4,8).reshape(2,2)\n",
    "y"
   ]
  },
  {
   "cell_type": "code",
   "execution_count": 6,
   "metadata": {},
   "outputs": [
    {
     "data": {
      "text/plain": [
       "(2, 4)"
      ]
     },
     "execution_count": 6,
     "metadata": {},
     "output_type": "execute_result"
    }
   ],
   "source": [
    "#Horizontal stacking\n",
    "\"\"\"\n",
    "the arrays must have same shape along the second axis.\n",
    "if the shape of the array is like (4,3)(4,2) it will not be acceptable in horizontal stacking. \n",
    "\"\"\"\n",
    "z=np.hstack((x,y))\n",
    "z\n",
    "z.shape"
   ]
  },
  {
   "cell_type": "code",
   "execution_count": 5,
   "metadata": {},
   "outputs": [
    {
     "data": {
      "text/plain": [
       "array([[0, 1],\n",
       "       [2, 3],\n",
       "       [4, 5],\n",
       "       [6, 7]])"
      ]
     },
     "execution_count": 5,
     "metadata": {},
     "output_type": "execute_result"
    }
   ],
   "source": [
    "#Vertical stacking\n",
    "\"\"\"\n",
    "Joins the two arrays along the first axis. That is if the coordinates are represented as (x,y),\n",
    "x-> is the first axis\n",
    "y-> is the second axis\n",
    "In python, as indexing starts from 0, the first axis is 0 and the second axis is 1 always.\n",
    "\"\"\"\n",
    "z=np.vstack((x,y))\n",
    "z"
   ]
  },
  {
   "cell_type": "code",
   "execution_count": 8,
   "metadata": {},
   "outputs": [
    {
     "name": "stdout",
     "output_type": "stream",
     "text": [
      "[[0 1]\n",
      " [2 3]\n",
      " [4 5]\n",
      " [6 7]]\n"
     ]
    }
   ],
   "source": [
    "#Concatenating the arrays \n",
    "\"\"\"\n",
    "Concatenating the arrays along the first axis is equivalent to vstack function\n",
    "Concatenating the arrays along the second axis is equivalent to hstack function\n",
    "\"\"\"\n",
    "w=np.concatenate((x,y),axis =0)\n",
    "print(w)"
   ]
  },
  {
   "cell_type": "code",
   "execution_count": 11,
   "metadata": {},
   "outputs": [
    {
     "name": "stdout",
     "output_type": "stream",
     "text": [
      "[[[0 4]\n",
      "  [1 5]]\n",
      "\n",
      " [[2 6]\n",
      "  [3 7]]]\n"
     ]
    }
   ],
   "source": [
    "#DEPTH STACKING\n",
    "depth_stack = np.dstack((x,y))\n",
    "print(depth_stack)"
   ]
  }
 ],
 "metadata": {
  "kernelspec": {
   "display_name": "Python 3",
   "language": "python",
   "name": "python3"
  },
  "language_info": {
   "codemirror_mode": {
    "name": "ipython",
    "version": 3
   },
   "file_extension": ".py",
   "mimetype": "text/x-python",
   "name": "python",
   "nbconvert_exporter": "python",
   "pygments_lexer": "ipython3",
   "version": "3.7.1"
  }
 },
 "nbformat": 4,
 "nbformat_minor": 2
}
